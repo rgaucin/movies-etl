{
 "cells": [
  {
   "cell_type": "code",
   "execution_count": 1,
   "id": "00632468",
   "metadata": {},
   "outputs": [],
   "source": [
    "import json\n",
    "import pandas as pd\n",
    "import numpy as np"
   ]
  },
  {
   "cell_type": "code",
   "execution_count": 2,
   "id": "826b45e0",
   "metadata": {},
   "outputs": [],
   "source": [
    "file_dir = \"/Users/gaucing/DataAnalytics/movies-etl/Resources\""
   ]
  },
  {
   "cell_type": "code",
   "execution_count": 3,
   "id": "1c7d8b9f",
   "metadata": {},
   "outputs": [],
   "source": [
    "with open(f\"{file_dir}/wikipedia-movies.json\", mode=\"r\") as file:\n",
    "    wiki_movies_raw = json.load(file)"
   ]
  },
  {
   "cell_type": "code",
   "execution_count": 4,
   "id": "73966aaa",
   "metadata": {},
   "outputs": [],
   "source": [
    "kaggle_metadata = pd.read_csv(f\"{file_dir}/movies_metadata.csv\", low_memory=False)\n",
    "ratings = pd.read_csv(f\"{file_dir}/ratings.csv\")"
   ]
  },
  {
   "cell_type": "code",
   "execution_count": 5,
   "id": "f865ab8b",
   "metadata": {},
   "outputs": [
    {
     "data": {
      "text/plain": [
       "7076"
      ]
     },
     "execution_count": 5,
     "metadata": {},
     "output_type": "execute_result"
    }
   ],
   "source": [
    "# remove non-films from data\n",
    "wiki_movies = [movie for movie in wiki_movies_raw\n",
    "               if ('Director' in movie or 'Directed by' in movie)\n",
    "                   and 'imdb_link' in movie\n",
    "                   and 'No. of episodes' not in movie]\n",
    "len(wiki_movies)"
   ]
  },
  {
   "cell_type": "code",
   "execution_count": 13,
   "id": "d9f2c1d6",
   "metadata": {},
   "outputs": [],
   "source": [
    "# keys for alternate titles\n",
    "alt_title_keys = [\"Also known as\",\"Arabic\",\"Cantonese\",\"Chinese\",\"French\",\n",
    "                  \"Hangul\",\"Hebrew\",\"Hepburn\",\"Japanese\",\"Literally\",\n",
    "                  \"Mandarin\",\"McCune–Reischauer\",\"Original title\",\"Polish\",\n",
    "                  \"Revised Romanization\",\"Romanized\",\"Russian\",\n",
    "                  \"Simplified\",\"Traditional\",\"Yiddish\"]\n",
    "\n",
    "# function to clean movie data\n",
    "def clean_movie(movie):\n",
    "    movie = dict(movie) # create a non-destructive copy\n",
    "    \n",
    "    # remove any alternate title info and re-add it under new \"Alternate Title\" column\n",
    "    alt_titles = {}\n",
    "    for key in alt_title_keys:\n",
    "        if key in movie:\n",
    "            alt_titles[key] = movie.pop(key)\n",
    "    if len(alt_titles) > 0:\n",
    "        movie[\"Alternate Titles\"] = alt_titles\n",
    "    \n",
    "    return movie"
   ]
  },
  {
   "cell_type": "code",
   "execution_count": 14,
   "id": "cbe3739a",
   "metadata": {},
   "outputs": [
    {
     "data": {
      "text/plain": [
       "['Adaptation by',\n",
       " 'Alternate Titles',\n",
       " 'Animation by',\n",
       " 'Audio format',\n",
       " 'Based on',\n",
       " 'Box office',\n",
       " 'Budget',\n",
       " 'Cinematography',\n",
       " 'Color process',\n",
       " 'Composer(s)',\n",
       " 'Country',\n",
       " 'Country of origin',\n",
       " 'Created by',\n",
       " 'Directed by',\n",
       " 'Director',\n",
       " 'Distributed by',\n",
       " 'Distributor',\n",
       " 'Edited by',\n",
       " 'Editor(s)',\n",
       " 'Executive producer(s)',\n",
       " 'Followed by',\n",
       " 'Genre',\n",
       " 'Label',\n",
       " 'Language',\n",
       " 'Length',\n",
       " 'Music by',\n",
       " 'Narrated by',\n",
       " 'Original language(s)',\n",
       " 'Original network',\n",
       " 'Original release',\n",
       " 'Picture format',\n",
       " 'Preceded by',\n",
       " 'Produced by',\n",
       " 'Producer',\n",
       " 'Producer(s)',\n",
       " 'Production company(s)',\n",
       " 'Production location(s)',\n",
       " 'Productioncompanies ',\n",
       " 'Productioncompany ',\n",
       " 'Recorded',\n",
       " 'Release date',\n",
       " 'Released',\n",
       " 'Running time',\n",
       " 'Screen story by',\n",
       " 'Screenplay by',\n",
       " 'Starring',\n",
       " 'Story by',\n",
       " 'Suggested by',\n",
       " 'Theme music composer',\n",
       " 'Venue',\n",
       " 'Voices of',\n",
       " 'Written by',\n",
       " 'imdb_link',\n",
       " 'title',\n",
       " 'url',\n",
       " 'year']"
      ]
     },
     "execution_count": 14,
     "metadata": {},
     "output_type": "execute_result"
    }
   ],
   "source": [
    "# clean movie and create new DataFrame\n",
    "clean_movies = [clean_movie(movie) for movie in wiki_movies]\n",
    "clean_movies_df = pd.DataFrame(clean_movies)\n",
    "sorted(clean_movies_df.columns.tolist())"
   ]
  },
  {
   "cell_type": "code",
   "execution_count": null,
   "id": "2cf9b994",
   "metadata": {},
   "outputs": [],
   "source": []
  }
 ],
 "metadata": {
  "kernelspec": {
   "display_name": "Python 3",
   "language": "python",
   "name": "python3"
  },
  "language_info": {
   "codemirror_mode": {
    "name": "ipython",
    "version": 3
   },
   "file_extension": ".py",
   "mimetype": "text/x-python",
   "name": "python",
   "nbconvert_exporter": "python",
   "pygments_lexer": "ipython3",
   "version": "3.8.8"
  }
 },
 "nbformat": 4,
 "nbformat_minor": 5
}
